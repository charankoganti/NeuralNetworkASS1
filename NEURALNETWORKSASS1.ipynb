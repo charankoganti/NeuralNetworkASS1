{
  "nbformat": 4,
  "nbformat_minor": 0,
  "metadata": {
    "colab": {
      "provenance": []
    },
    "kernelspec": {
      "name": "python3",
      "display_name": "Python 3"
    },
    "language_info": {
      "name": "python"
    }
  },
  "cells": [
    {
      "cell_type": "code",
      "execution_count": 13,
      "metadata": {
        "colab": {
          "base_uri": "https://localhost:8080/",
          "height": 0
        },
        "id": "5jYtIajsgs-E",
        "outputId": "c7208172-905b-45f5-e848-daeaa708f527"
      },
      "outputs": [
        {
          "output_type": "stream",
          "name": "stdout",
          "text": [
            "Enter a string: python\n",
            "Reversed string: noht\n"
          ]
        }
      ],
      "source": [
        "input_string = list(input(\"Enter a string: \"))\n",
        "\n",
        "if len(input_string) >= 2:\n",
        "    del input_string[:2]\n",
        "    rev_string = ''.join(input_string[::-1])\n",
        "    print(\"Reversed string:\", rev_string)\n",
        "else:\n",
        "    print(\"Input string must have at least 2 characters.\")"
      ]
    },
    {
      "cell_type": "code",
      "source": [
        "def replace_python(sentence):\n",
        "    modified_sentence = sentence.replace('python', 'pythons')\n",
        "    return modified_sentence\n",
        "\n",
        "input_sentence = input(\"Enter a sentence: \")\n",
        "output_sentence = replace_python(input_sentence)\n",
        "\n",
        "print(\"Modified sentence:\", output_sentence)\n"
      ],
      "metadata": {
        "colab": {
          "base_uri": "https://localhost:8080/",
          "height": 0
        },
        "id": "2XUqAtB3hPfO",
        "outputId": "249b4a3e-a5eb-4bfd-bce4-dc2f1cd6838a"
      },
      "execution_count": 3,
      "outputs": [
        {
          "output_type": "stream",
          "name": "stdout",
          "text": [
            "Enter a sentence: i love playing with python \n",
            "Modified sentence: i love playing with pythons \n"
          ]
        }
      ]
    },
    {
      "cell_type": "code",
      "source": [
        "num1 = float(input(\"Enter the first num: \"))\n",
        "num2 = float(input(\"Enter the second num: \"))\n",
        "\n",
        "add = num1 + num2\n",
        "sub = num1 - num2\n",
        "multi = num1 * num2\n",
        "\n",
        "divi = num1 / num2 if num2 != 0 else \"Cannot divide by zero\"\n",
        "\n",
        "print(\"Addition:\", add)\n",
        "print(\"Subtraction:\", sub)\n",
        "print(\"Multiplication:\", multi)\n",
        "print(\"Division:\", divi)"
      ],
      "metadata": {
        "colab": {
          "base_uri": "https://localhost:8080/",
          "height": 0
        },
        "id": "KV54OK49hbhZ",
        "outputId": "fbcb4d4a-e8f1-4fac-ee98-eed96fb90134"
      },
      "execution_count": 15,
      "outputs": [
        {
          "output_type": "stream",
          "name": "stdout",
          "text": [
            "Enter the first num: 9\n",
            "Enter the second num: 9\n",
            "Addition: 18.0\n",
            "Subtraction: 0.0\n",
            "Multiplication: 81.0\n",
            "Division: 1.0\n"
          ]
        }
      ]
    },
    {
      "cell_type": "code",
      "source": [
        "score = int(input(\"Enter class score\"))\n",
        "if(score>=90):\n",
        "  print(\"A\")\n",
        "elif(score>=80 and score<90):\n",
        "  print(\"B\")\n",
        "elif(score>=70 and score<80):\n",
        "  print(\"C\")\n",
        "elif(score>=60 and score<70):\n",
        "  print(\"D\")\n",
        "else:\n",
        "  print(\"F\")"
      ],
      "metadata": {
        "colab": {
          "base_uri": "https://localhost:8080/",
          "height": 0
        },
        "id": "tqBfeWX7iEoD",
        "outputId": "9ead2a90-cb85-4499-8906-81bb404c9408"
      },
      "execution_count": 20,
      "outputs": [
        {
          "output_type": "stream",
          "name": "stdout",
          "text": [
            "Enter class score50\n",
            "F\n"
          ]
        }
      ]
    }
  ]
}